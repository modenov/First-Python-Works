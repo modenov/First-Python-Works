{
 "cells": [
  {
   "cell_type": "markdown",
   "metadata": {},
   "source": [
    "# Привет!\n",
    "\n",
    "## Здесь будет кое-какой комментарий по программе.\n",
    "\n",
    "Вот я пишу тут.\n",
    "Ха!"
   ]
  },
  {
   "cell_type": "code",
   "execution_count": 1,
   "metadata": {},
   "outputs": [
    {
     "name": "stdout",
     "output_type": "stream",
     "text": [
      "Hello!\n"
     ]
    }
   ],
   "source": [
    "print(\"Hello!\")"
   ]
  },
  {
   "cell_type": "code",
   "execution_count": 2,
   "metadata": {},
   "outputs": [
    {
     "name": "stdout",
     "output_type": "stream",
     "text": [
      "Введите целое число а: 5\n",
      "Введите целое число b: 6\n",
      "Введите целое число c: 5\n",
      "Максимальное число = 6\n"
     ]
    }
   ],
   "source": [
    "a = int(input('Введите целое число а: '))\n",
    "b = int(input('Введите целое число b: '))\n",
    "c = int(input('Введите целое число c: '))\n",
    "\n",
    "m = a\n",
    "\n",
    "if m < b:\n",
    "    m = b\n",
    "if m < c:\n",
    "    m = c\n",
    "\n",
    "print(f'Максимальное число = {m}')"
   ]
  },
  {
   "cell_type": "code",
   "execution_count": 1,
   "metadata": {},
   "outputs": [
    {
     "name": "stdout",
     "output_type": "stream",
     "text": [
      "Hello World!\n"
     ]
    }
   ],
   "source": [
    "print(\"Hello World!\")"
   ]
  },
  {
   "cell_type": "code",
   "execution_count": null,
   "metadata": {},
   "outputs": [],
   "source": []
  }
 ],
 "metadata": {
  "kernelspec": {
   "display_name": "Python 3",
   "language": "python",
   "name": "python3"
  },
  "language_info": {
   "codemirror_mode": {
    "name": "ipython",
    "version": 3
   },
   "file_extension": ".py",
   "mimetype": "text/x-python",
   "name": "python",
   "nbconvert_exporter": "python",
   "pygments_lexer": "ipython3",
   "version": "3.7.6"
  }
 },
 "nbformat": 4,
 "nbformat_minor": 4
}
